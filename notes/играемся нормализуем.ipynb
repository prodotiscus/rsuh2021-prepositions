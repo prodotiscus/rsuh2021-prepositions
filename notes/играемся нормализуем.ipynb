{
 "cells": [
  {
   "cell_type": "code",
   "execution_count": 1,
   "metadata": {},
   "outputs": [],
   "source": [
    "import os\n",
    "import sys\n",
    "sys.path.insert(0, os.path.join(\"..\", \"app\"))\n",
    "import dataset\n",
    "import json\n",
    "import numpy as np\n",
    "from collections import namedtuple\n"
   ]
  },
  {
   "cell_type": "code",
   "execution_count": 2,
   "metadata": {},
   "outputs": [],
   "source": [
    "meta = open(os.path.join(\"..\", \"files\", \"meta\", \"datasets.json\"), encoding=\"utf-8\").read()\n",
    "meta = json.loads(meta)"
   ]
  },
  {
   "cell_type": "code",
   "execution_count": 3,
   "metadata": {},
   "outputs": [],
   "source": [
    "def metrics(_all, processed, valid):\n",
    "    return valid * _all / processed"
   ]
  },
  {
   "cell_type": "code",
   "execution_count": 4,
   "metadata": {},
   "outputs": [],
   "source": [
    "def format_name(from_meta):\n",
    "    return from_meta.replace(\":\", \"_\")"
   ]
  },
  {
   "cell_type": "code",
   "execution_count": 5,
   "metadata": {},
   "outputs": [],
   "source": [
    "item = namedtuple(\"dataset\", \"preposition metrics\")\n",
    "def for_property(prop):\n",
    "    for ds in meta[\"datasets_meta\"]:\n",
    "        _, preposition, _, p = format_name(ds[\"name\"]).split(\"_\")\n",
    "        if p != prop:\n",
    "            continue\n",
    "        try:\n",
    "            d = dataset.Dataset(format_name(ds[\"name\"]), \"..\")\n",
    "            valid = d.get_matches_count()\n",
    "            yield item(preposition, metrics(ds[\"allMatches\"], ds[\"processedMatches\"], valid))\n",
    "        except FileNotFoundError:\n",
    "            pass # В таблице не участвует"
   ]
  },
  {
   "cell_type": "code",
   "execution_count": 13,
   "metadata": {},
   "outputs": [
    {
     "name": "stdout",
     "output_type": "stream",
     "text": [
      "по 0.9822579521191659\n",
      "с 0.15962487435920714\n",
      "за 0.05407278850384031\n",
      "в 0.051469558967760544\n",
      "на 0.04229849732746297\n",
      "для 0.033859865182166674\n",
      "от 0.020271881190758827\n",
      "про 0.017004208399467733\n",
      "о 0.012889261699829504\n",
      "над 0.0123594945151635\n",
      "у 0.00874761950817538\n",
      "к 0.005793513053982891\n",
      "из 0.005214161748584602\n",
      "перед 0.004827927544985742\n",
      "до 0.0007724684071977188\n",
      "под 0.0005793513053982891\n",
      "через 0.00025748946906590625\n",
      "при 0.00012874473453295312\n"
     ]
    }
   ],
   "source": [
    "doubling = [p for p in for_property('ДвРефлексивИнтерпозиция')]\n",
    "doubling_metrics = [x.metrics for x in doubling]\n",
    "doubling_normalized_metrics = doubling_metrics / np.linalg.norm(doubling_metrics)\n",
    "sortable = [item(doubling[n].preposition, doubling_normalized_metrics[n]) for n, x in enumerate(doubling)]\n",
    "for x in sorted(sortable, key=lambda x: x.metrics, reverse=True):\n",
    "    print(x.preposition, x.metrics)"
   ]
  },
  {
   "cell_type": "code",
   "execution_count": 7,
   "metadata": {},
   "outputs": [],
   "source": [
    "import seaborn as sns"
   ]
  },
  {
   "cell_type": "code",
   "execution_count": 12,
   "metadata": {},
   "outputs": [
    {
     "data": {
      "text/plain": [
       "<matplotlib.axes._subplots.AxesSubplot at 0x20f544e7390>"
      ]
     },
     "execution_count": 12,
     "metadata": {},
     "output_type": "execute_result"
    },
    {
     "data": {
      "image/png": "[encoded data removed]",
      "text/plain": [
       "<Figure size 432x288 with 1 Axes>"
      ]
     },
     "metadata": {
      "needs_background": "light"
     },
     "output_type": "display_data"
    }
   ],
   "source": [
    "sns.boxplot(x = [p.metrics for p in sortable])"
   ]
  },
  {
   "cell_type": "markdown",
   "metadata": {},
   "source": []
  }
 ],
 "metadata": {
  "kernelspec": {
   "display_name": "Python 3",
   "language": "python",
   "name": "python3"
  },
  "language_info": {
   "codemirror_mode": {
    "name": "ipython",
    "version": 3
   },
   "file_extension": ".py",
   "mimetype": "text/x-python",
   "name": "python",
   "nbconvert_exporter": "python",
   "pygments_lexer": "ipython3",
   "version": "3.6.4rc1"
  }
 },
 "nbformat": 4,
 "nbformat_minor": 2
}
