{
 "cells": [
  {
   "cell_type": "code",
   "execution_count": 1,
   "metadata": {},
   "outputs": [],
   "source": [
    "import os\n",
    "import sys\n",
    "sys.path.insert(0, os.path.join(\"..\", \"app\"))\n",
    "import dataset\n",
    "import json\n",
    "import numpy as np\n",
    "from collections import namedtuple\n"
   ]
  },
  {
   "cell_type": "code",
   "execution_count": 2,
   "metadata": {},
   "outputs": [],
   "source": [
    "meta = open(os.path.join(\"..\", \"files\", \"meta\", \"datasets.json\"), encoding=\"utf-8\").read()\n",
    "meta = json.loads(meta)"
   ]
  },
  {
   "cell_type": "code",
   "execution_count": 3,
   "metadata": {},
   "outputs": [],
   "source": [
    "def metrics(_all, processed, valid):\n",
    "    return valid * _all / processed"
   ]
  },
  {
   "cell_type": "code",
   "execution_count": 4,
   "metadata": {},
   "outputs": [],
   "source": [
    "def format_name(from_meta):\n",
    "    return from_meta.replace(\":\", \"_\")"
   ]
  },
  {
   "cell_type": "code",
   "execution_count": 5,
   "metadata": {},
   "outputs": [],
   "source": [
    "item = namedtuple(\"dataset\", \"preposition metrics\")\n",
    "def for_property(prop):\n",
    "    for ds in meta[\"datasets_meta\"]:\n",
    "        _, preposition, _, p = format_name(ds[\"name\"]).split(\"_\")\n",
    "        if p != prop:\n",
    "            continue\n",
    "        try:\n",
    "            d = dataset.Dataset(format_name(ds[\"name\"]), \"..\")\n",
    "            valid = d.get_matches_count()\n",
    "            yield item(preposition, metrics(ds[\"allMatches\"], ds[\"processedMatches\"], valid))\n",
    "        except FileNotFoundError:\n",
    "            pass # В таблице не участвует"
   ]
  },
  {
   "cell_type": "code",
   "execution_count": 6,
   "metadata": {},
   "outputs": [],
   "source": [
    "def get_sortable_for(prop):\n",
    "    doubling = [p for p in for_property(prop)]\n",
    "    doubling_metrics = [x.metrics for x in doubling]\n",
    "    doubling_normalized_metrics = doubling_metrics / np.linalg.norm(doubling_metrics)\n",
    "    return [item(doubling[n].preposition, doubling_normalized_metrics[n]) for n, x in enumerate(doubling)]"
   ]
  },
  {
   "cell_type": "code",
   "execution_count": 7,
   "metadata": {},
   "outputs": [],
   "source": [
    "import seaborn as sns"
   ]
  },
  {
   "cell_type": "markdown",
   "metadata": {},
   "source": [
    "## Аппроксимативная инверсия"
   ]
  },
  {
   "cell_type": "code",
   "execution_count": 8,
   "metadata": {},
   "outputs": [
    {
     "name": "stdout",
     "output_type": "stream",
     "text": [
      "в 0.9889803861514107\n",
      "до 0.08501133001401676\n",
      "на 0.08196407980733023\n",
      "через 0.0793465781765692\n",
      "к 0.03944272523934031\n",
      "за 0.010887025070210695\n",
      "из 0.0011350457669715998\n",
      "от 0.0010871379910929284\n",
      "с 0.0002174275982185857\n",
      "у 0.0002174275982185857\n",
      "без 0.00010871379910929284\n",
      "из-за 0.00010871379910929284\n",
      "о 0.00010871379910929284\n",
      "по 0.00010871379910929284\n",
      "при 0.00010871379910929284\n"
     ]
    },
    {
     "data": {
      "text/plain": [
       "<AxesSubplot:>"
      ]
     },
     "execution_count": 8,
     "metadata": {},
     "output_type": "execute_result"
    },
    {
     "data": {
      "image/png": "[encoded data removed]",
      "text/plain": [
       "<Figure size 432x288 with 1 Axes>"
      ]
     },
     "metadata": {
      "needs_background": "light"
     },
     "output_type": "display_data"
    }
   ],
   "source": [
    "ApproximativeInversion = get_sortable_for('АппроксИнверсия')\n",
    "for x in sorted(ApproximativeInversion, key=lambda x: x.metrics, reverse=True):\n",
    "    print(x.preposition, x.metrics)\n",
    "sns.boxplot(x = [p.metrics for p in ApproximativeInversion])"
   ]
  },
  {
   "cell_type": "markdown",
   "metadata": {},
   "source": [
    "Выброс на ящике: экстремально частотные конструкции типа \"X-ах в Y-е\""
   ]
  },
  {
   "cell_type": "markdown",
   "metadata": {},
   "source": [
    "## Удвоение предлога"
   ]
  },
  {
   "cell_type": "code",
   "execution_count": 9,
   "metadata": {},
   "outputs": [
    {
     "name": "stdout",
     "output_type": "stream",
     "text": [
      "на 0.7632304099495865\n",
      "у 0.44006060254406043\n",
      "в 0.36126370743601205\n",
      "за 0.1660606047336077\n",
      "с 0.16329292798804756\n",
      "по 0.12454545355020577\n",
      "от 0.10517171633128487\n",
      "из 0.06642424189344308\n",
      "к 0.06088888840232282\n",
      "о 0.04981818142008231\n",
      "под 0.03044444420116141\n",
      "про 0.019373737218920897\n",
      "до 0.01660606047336077\n",
      "без 0.011070706982240514\n",
      "над 0.011070706982240514\n",
      "из-за 0.005535353491120257\n",
      "при 0.005535353491120257\n",
      "для 0.0027676767455601286\n",
      "перед 0.0027676767455601286\n"
     ]
    },
    {
     "data": {
      "text/plain": [
       "<AxesSubplot:>"
      ]
     },
     "execution_count": 9,
     "metadata": {},
     "output_type": "execute_result"
    },
    {
     "data": {
      "image/png": "[encoded data removed]",
      "text/plain": [
       "<Figure size 432x288 with 1 Axes>"
      ]
     },
     "metadata": {
      "needs_background": "light"
     },
     "output_type": "display_data"
    }
   ],
   "source": [
    "PrepositionDoubling = get_sortable_for('Удвоение')\n",
    "for x in sorted(PrepositionDoubling, key=lambda x: x.metrics, reverse=True):\n",
    "    print(x.preposition, x.metrics)\n",
    "sns.boxplot(x = [p.metrics for p in PrepositionDoubling])"
   ]
  },
  {
   "cell_type": "markdown",
   "metadata": {},
   "source": [
    "Три верхних выброса по возрастанию частотности: *в X-е в Z-м*, *у X-a у Z-го*, *на X-e на Z-м*"
   ]
  },
  {
   "cell_type": "markdown",
   "metadata": {},
   "source": [
    "## Интерпозиция с двойным рефлексивом"
   ]
  },
  {
   "cell_type": "code",
   "execution_count": 10,
   "metadata": {},
   "outputs": [
    {
     "name": "stdout",
     "output_type": "stream",
     "text": [
      "по 0.9822579521191659\n",
      "с 0.15962487435920714\n",
      "за 0.05407278850384031\n",
      "в 0.051469558967760544\n",
      "на 0.04229849732746297\n",
      "для 0.033859865182166674\n",
      "от 0.020271881190758827\n",
      "про 0.017004208399467733\n",
      "о 0.012889261699829504\n",
      "над 0.0123594945151635\n",
      "у 0.00874761950817538\n",
      "к 0.005793513053982891\n",
      "из 0.005214161748584602\n",
      "перед 0.004827927544985742\n",
      "до 0.0007724684071977188\n",
      "под 0.0005793513053982891\n",
      "через 0.00025748946906590625\n",
      "при 0.00012874473453295312\n"
     ]
    },
    {
     "data": {
      "text/plain": [
       "<AxesSubplot:>"
      ]
     },
     "execution_count": 10,
     "metadata": {},
     "output_type": "execute_result"
    },
    {
     "data": {
      "image/png": "[encoded data removed]",
      "text/plain": [
       "<Figure size 432x288 with 1 Axes>"
      ]
     },
     "metadata": {
      "needs_background": "light"
     },
     "output_type": "display_data"
    }
   ],
   "source": [
    "DoubleReflInterposition = get_sortable_for('ДвРефлексивИнтерпозиция')\n",
    "for x in sorted(DoubleReflInterposition, key=lambda x: x.metrics, reverse=True):\n",
    "    print(x.preposition, x.metrics)\n",
    "sns.boxplot(x = [p.metrics for p in DoubleReflInterposition])"
   ]
  },
  {
   "cell_type": "markdown",
   "metadata": {},
   "source": [
    "Выбросы по убыванию: конструкции типа **сам по себе** \"экстремально\" частотны; также **сам с собой**"
   ]
  },
  {
   "cell_type": "markdown",
   "metadata": {},
   "source": [
    "## Интерпозиция с отрицательными местоимениями"
   ]
  },
  {
   "cell_type": "code",
   "execution_count": 11,
   "metadata": {},
   "outputs": [
    {
     "name": "stdout",
     "output_type": "stream",
     "text": [
      "в 0.6889154633680472\n",
      "за 0.41275039870932917\n",
      "о 0.40819542826516847\n",
      "с 0.3414913899338539\n",
      "у 0.16406653157524906\n",
      "при 0.16248981103688573\n",
      "от 0.09191268165835305\n",
      "для 0.06892403895043372\n",
      "перед 0.04524311989248058\n",
      "под 0.03733277341572128\n",
      "до 0.029173805646569826\n",
      "про 0.0271108337013025\n",
      "по 0.011737808452260209\n",
      "через 0.006525871117114818\n",
      "над 0.005912702018862419\n",
      "из 0.005562319677003905\n",
      "из-за 0.0006569668909847132\n",
      "без 8.759558546462843e-05\n"
     ]
    },
    {
     "data": {
      "text/plain": [
       "<AxesSubplot:>"
      ]
     },
     "execution_count": 11,
     "metadata": {},
     "output_type": "execute_result"
    },
    {
     "data": {
      "image/png": "[encoded data removed]",
      "text/plain": [
       "<Figure size 432x288 with 1 Axes>"
      ]
     },
     "metadata": {
      "needs_background": "light"
     },
     "output_type": "display_data"
    }
   ],
   "source": [
    "NegPronInterposition = get_sortable_for('ОтрМестИнтерпозиция')\n",
    "for x in sorted(NegPronInterposition, key=lambda x: x.metrics, reverse=True):\n",
    "    print(x.preposition, x.metrics)\n",
    "sns.boxplot(x = [p.metrics for p in NegPronInterposition])"
   ]
  },
  {
   "cell_type": "markdown",
   "metadata": {},
   "source": [
    "## Интерпозиция с амальгамами"
   ]
  },
  {
   "cell_type": "code",
   "execution_count": 12,
   "metadata": {},
   "outputs": [
    {
     "name": "stdout",
     "output_type": "stream",
     "text": [
      "с 0.5210165921805386\n",
      "о 0.4265323986805182\n",
      "на 0.4038096284354124\n",
      "в 0.3973658577688899\n",
      "за 0.25775082666090154\n",
      "для 0.24056743821684143\n",
      "до 0.1825735022181386\n",
      "к 0.14176295466349584\n",
      "от 0.13961503110798834\n",
      "у 0.12887541333045077\n",
      "из 0.08806486577580802\n",
      "из-за 0.047254318221165284\n",
      "над 0.034366776888120204\n",
      "про 0.019331311999567617\n",
      "перед 0.012887541333045077\n",
      "по 0.008591694222030051\n",
      "под 0.0042958471110150255\n",
      "без 0.0021479235555075128\n",
      "при 0.0021479235555075128\n"
     ]
    },
    {
     "data": {
      "text/plain": [
       "<AxesSubplot:>"
      ]
     },
     "execution_count": 12,
     "metadata": {},
     "output_type": "execute_result"
    },
    {
     "data": {
      "image/png": "[encoded data removed]",
      "text/plain": [
       "<Figure size 432x288 with 1 Axes>"
      ]
     },
     "metadata": {
      "needs_background": "light"
     },
     "output_type": "display_data"
    }
   ],
   "source": [
    "AmalgInterposition = get_sortable_for('АмальгамыИнтерпозиция')\n",
    "for x in sorted(AmalgInterposition, key=lambda x: x.metrics, reverse=True):\n",
    "    print(x.preposition, x.metrics)\n",
    "sns.boxplot(x = [p.metrics for p in AmalgInterposition])"
   ]
  },
  {
   "cell_type": "code",
   "execution_count": null,
   "metadata": {},
   "outputs": [],
   "source": []
  }
 ],
 "metadata": {
  "kernelspec": {
   "display_name": "Python 3",
   "language": "python",
   "name": "python3"
  },
  "language_info": {
   "codemirror_mode": {
    "name": "ipython",
    "version": 3
   },
   "file_extension": ".py",
   "mimetype": "text/x-python",
   "name": "python",
   "nbconvert_exporter": "python",
   "pygments_lexer": "ipython3",
   "version": "3.7.3"
  }
 },
 "nbformat": 4,
 "nbformat_minor": 2
}
